{
 "cells": [
  {
   "cell_type": "code",
   "execution_count": null,
   "id": "b563b07d-34dd-4c68-afeb-0483c0439233",
   "metadata": {},
   "outputs": [],
   "source": []
  }
 ],
 "metadata": {
  "kernelspec": {
   "display_name": "",
   "name": ""
  },
  "language_info": {
   "name": ""
  }
 },
 "nbformat": 4,
 "nbformat_minor": 5
}
